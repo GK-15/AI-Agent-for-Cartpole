{
  "nbformat": 4,
  "nbformat_minor": 0,
  "metadata": {
    "kernelspec": {
      "display_name": "Python 3",
      "language": "python",
      "name": "python3"
    },
    "language_info": {
      "codemirror_mode": {
        "name": "ipython",
        "version": 3
      },
      "file_extension": ".py",
      "mimetype": "text/x-python",
      "name": "python",
      "nbconvert_exporter": "python",
      "pygments_lexer": "ipython3",
      "version": "3.8.5"
    },
    "colab": {
      "name": "AI for Cart-Pole.ipynb",
      "provenance": [],
      "collapsed_sections": [],
      "machine_shape": "hm"
    },
    "accelerator": "GPU"
  },
  "cells": [
    {
      "cell_type": "markdown",
      "metadata": {
        "id": "9Cicfts988cL"
      },
      "source": [
        "#**Artificial Intellligence for the CartPole**"
      ]
    },
    {
      "cell_type": "code",
      "metadata": {
        "colab": {
          "base_uri": "https://localhost:8080/"
        },
        "id": "YyMrKY2evzWr",
        "outputId": "68045700-a2b6-4240-aebd-bd23baefe293"
      },
      "source": [
        "%matplotlib inline\n",
        "!apt install xvfb -y\n",
        "!pip install pyvirtualdisplay\n",
        "!pip install piglet\n",
        "import gym\n",
        "import math\n",
        "import random\n",
        "import numpy as np\n",
        "import matplotlib\n",
        "import matplotlib.pyplot as plt\n",
        "from collections import namedtuple\n",
        "from itertools import count\n",
        "from PIL import Image\n",
        "import torch\n",
        "import torch.nn as nn\n",
        "import torch.optim as optim\n",
        "import torch.nn.functional as F\n",
        "import torchvision.transforms as T\n",
        "from IPython import display as ipythondisplay\n",
        "from pyvirtualdisplay import Display\n",
        "display = Display(visible=0, size=(1400, 900))\n",
        "display.start()\n",
        "import os\n",
        "os.environ['DISPLAY'] = ':1'\n",
        "!pip install base\n",
        "import base"
      ],
      "execution_count": 1,
      "outputs": [
        {
          "output_type": "stream",
          "text": [
            "Reading package lists... Done\n",
            "Building dependency tree       \n",
            "Reading state information... Done\n",
            "xvfb is already the newest version (2:1.19.6-1ubuntu4.9).\n",
            "0 upgraded, 0 newly installed, 0 to remove and 39 not upgraded.\n",
            "Requirement already satisfied: pyvirtualdisplay in /usr/local/lib/python3.7/dist-packages (2.2)\n",
            "Requirement already satisfied: EasyProcess in /usr/local/lib/python3.7/dist-packages (from pyvirtualdisplay) (0.3)\n",
            "Requirement already satisfied: piglet in /usr/local/lib/python3.7/dist-packages (1.0.0)\n",
            "Requirement already satisfied: piglet-templates in /usr/local/lib/python3.7/dist-packages (from piglet) (1.2.0)\n",
            "Requirement already satisfied: astunparse in /usr/local/lib/python3.7/dist-packages (from piglet-templates->piglet) (1.6.3)\n",
            "Requirement already satisfied: markupsafe in /usr/local/lib/python3.7/dist-packages (from piglet-templates->piglet) (2.0.1)\n",
            "Requirement already satisfied: attrs in /usr/local/lib/python3.7/dist-packages (from piglet-templates->piglet) (21.2.0)\n",
            "Requirement already satisfied: pyparsing in /usr/local/lib/python3.7/dist-packages (from piglet-templates->piglet) (2.4.7)\n",
            "Requirement already satisfied: wheel<1.0,>=0.23.0 in /usr/local/lib/python3.7/dist-packages (from astunparse->piglet-templates->piglet) (0.36.2)\n",
            "Requirement already satisfied: six<2.0,>=1.6.1 in /usr/local/lib/python3.7/dist-packages (from astunparse->piglet-templates->piglet) (1.15.0)\n",
            "Requirement already satisfied: base in /usr/local/lib/python3.7/dist-packages (1.0.4)\n"
          ],
          "name": "stdout"
        }
      ]
    },
    {
      "cell_type": "markdown",
      "metadata": {
        "id": "8r71AicMvzWt"
      },
      "source": [
        "### *Set up Display*"
      ]
    },
    {
      "cell_type": "code",
      "metadata": {
        "id": "kQKMHsCgvzWu"
      },
      "source": [
        "is_python = 'inline' in matplotlib.get_backend()\n",
        "if is_python: from IPython import display"
      ],
      "execution_count": 2,
      "outputs": []
    },
    {
      "cell_type": "markdown",
      "metadata": {
        "id": "xS00QL5JvzWu"
      },
      "source": [
        "### *Deep Q-Network*"
      ]
    },
    {
      "cell_type": "code",
      "metadata": {
        "id": "erua6Qf2vzWu"
      },
      "source": [
        "class DQN(nn.Module):\n",
        "    def __init__(self,img_height,img_width):\n",
        "        super().__init__()\n",
        "        self.fc1 = nn.Linear(in_features=img_height*img_width*3, out_features=24)\n",
        "        self.fc2 = nn.Linear(in_features=24, out_features=32)\n",
        "        self.out = nn.Linear(in_features=32, out_features=2)\n",
        "    \n",
        "    def forward(self,t):\n",
        "        t = t.flatten(start_dim=1)\n",
        "        t = F.relu(self.fc1(t))\n",
        "        t = F.relu(self.fc2(t))\n",
        "        t = self.out(t)\n",
        "        return t"
      ],
      "execution_count": 3,
      "outputs": []
    },
    {
      "cell_type": "markdown",
      "metadata": {
        "id": "lhe1dqB4vzWv"
      },
      "source": [
        "### *Experience Class*"
      ]
    },
    {
      "cell_type": "code",
      "metadata": {
        "id": "1qqqhlTmvzWw"
      },
      "source": [
        "Experience = namedtuple('Experience',('state','action','next_state','reward'))"
      ],
      "execution_count": 4,
      "outputs": []
    },
    {
      "cell_type": "markdown",
      "metadata": {
        "id": "MT2mVjxMvzWx"
      },
      "source": [
        "### *Replay Memory*"
      ]
    },
    {
      "cell_type": "code",
      "metadata": {
        "id": "TU9QITRzvzWx"
      },
      "source": [
        "class ReplayMemoy():\n",
        "    def __init__(self,capacity):\n",
        "        self.capacity = capacity\n",
        "        self.memory = []\n",
        "        self.push_count = 0\n",
        "  \n",
        "    def push(self,experience):\n",
        "        if (len(self.memory)) < self.capacity:\n",
        "            self.memory.append(experience)\n",
        "        else:\n",
        "            self.memory[self.push_count % self.capacity] = experience\n",
        "        self.push_count += 1\n",
        "    \n",
        "    def sample(self,batch_size):\n",
        "        return random.sample(self.memory, batch_size)\n",
        "    \n",
        "    def can_provide_sample(self,batch_size):\n",
        "        return len(self.memory) >= batch_size"
      ],
      "execution_count": 5,
      "outputs": []
    },
    {
      "cell_type": "markdown",
      "metadata": {
        "id": "KYfU0xDfvzWy"
      },
      "source": [
        "### Epsilon Greedy Strategy"
      ]
    },
    {
      "cell_type": "code",
      "metadata": {
        "id": "mVggCXQJvzWy"
      },
      "source": [
        "class EpsilonGreedyStrategy():\n",
        "    def __init__(self, start,end,decay):\n",
        "        self.start = start\n",
        "        self.end = end\n",
        "        self.decay = decay\n",
        "    \n",
        "    def get_exploration_rate(self,current_step):\n",
        "        return self.end + (self.start - self.end) * \\\n",
        "                math.exp(-1. * current_step * self.decay)"
      ],
      "execution_count": 6,
      "outputs": []
    },
    {
      "cell_type": "markdown",
      "metadata": {
        "id": "3hTpZoYxvzWz"
      },
      "source": [
        "### *Reinforcement Learning Agent*"
      ]
    },
    {
      "cell_type": "code",
      "metadata": {
        "id": "Sj1Rw4rxvzWz"
      },
      "source": [
        "class Agent():\n",
        "    def __init__(self, strategy, num_actions, device):\n",
        "        self.current_step = 0\n",
        "        self.strategy = strategy\n",
        "        self.num_actions = num_actions\n",
        "        self.device = device\n",
        "        \n",
        "    def select_action(self, state, policy_net):\n",
        "        rate = self.strategy.get_exploration_rate(self.current_step)\n",
        "        self.current_step += 1\n",
        "        if rate > random.random():\n",
        "            action = random.randrange(self.num_actions) # explore\n",
        "            return torch.tensor([action]).to(device)\n",
        "        else:\n",
        "            with torch.no_grad():\n",
        "                return policy_net(state).argmax(dim=1).to(device) #exploit"
      ],
      "execution_count": 7,
      "outputs": []
    },
    {
      "cell_type": "markdown",
      "metadata": {
        "id": "f_MXJ7PlvzW1"
      },
      "source": [
        "### *Environment Manager*"
      ]
    },
    {
      "cell_type": "code",
      "metadata": {
        "id": "UwXjbf4IvzW1"
      },
      "source": [
        "class CartPoleEnvManager():\n",
        "    def __init__(self,device):\n",
        "        self.device = device\n",
        "        self.env = gym.make('CartPole-v0').unwrapped\n",
        "        self.env.reset()\n",
        "        self.current_screen = None\n",
        "        self.done = False\n",
        "        \n",
        "    def reset(self):\n",
        "        self.env.reset()\n",
        "        self.current_screen = None\n",
        "        \n",
        "    def close(self):\n",
        "        self.env.close()\n",
        "        \n",
        "    def render(self,mode='human'):\n",
        "        return self.env.render(mode)\n",
        "    \n",
        "    def num_actions_available(self):\n",
        "        return self.env.action_space.n\n",
        "    \n",
        "    def take_action(self,action):\n",
        "        _,reward,self.done,_ = self.env.step(action.item())\n",
        "        return torch.tensor([reward],device=self.device)\n",
        "    \n",
        "    def just_starting(self):\n",
        "        return self.current_screen is None\n",
        "    \n",
        "    def get_state(self):\n",
        "        if self.just_starting() or self.done :\n",
        "            self.current_screen = self.get_processed_screen()\n",
        "            black_screen = torch.zeros_like(self.current_screen)\n",
        "            return black_screen\n",
        "        else:\n",
        "            s1 = self.current_screen\n",
        "            s2 = self.get_processed_screen()\n",
        "            self.current_screen = s2\n",
        "            return s2-s1\n",
        "    \n",
        "    def get_screen_height(self):\n",
        "        screen = self.get_processed_screen()\n",
        "        return screen.shape[2]\n",
        "    \n",
        "    def get_screen_width(self):\n",
        "        screen = self.get_processed_screen()\n",
        "        return screen.shape[3]\n",
        "    \n",
        "    def get_processed_screen(self):\n",
        "        \n",
        "        screen = self.render('rgb_array').transpose((2,0,1))\n",
        "        screen = self.crop_screen(screen)\n",
        "        return self.transform_screen_data(screen)\n",
        "    \n",
        "    def crop_screen(self,screen):\n",
        "        screen_height = screen.shape[1]\n",
        "        \n",
        "        #Strip of top and bottom\n",
        "        top = int(screen_height*0.4)\n",
        "        bottom = int(screen_height*0.8)\n",
        "        screen = screen[:,top:bottom,:]\n",
        "        return screen\n",
        "    \n",
        "    def transform_screen_data(self,screen):\n",
        "        #Convert to float, rescale, convert to tensor\n",
        "        screen = np.ascontiguousarray(screen,dtype=np.float32) / 255\n",
        "        screen = torch.from_numpy(screen)\n",
        "        \n",
        "        # Use torchvision package to compose image transforms\n",
        "        resize = T.Compose([T.ToPILImage(),T.Resize((40,90)),T.ToTensor()])\n",
        "        return resize(screen).unsqueeze(0).to(self.device)"
      ],
      "execution_count": 8,
      "outputs": []
    },
    {
      "cell_type": "markdown",
      "metadata": {
        "id": "oomDiU2mvzW2"
      },
      "source": [
        "### *Example of non-processed screen*"
      ]
    },
    {
      "cell_type": "code",
      "metadata": {
        "colab": {
          "base_uri": "https://localhost:8080/"
        },
        "id": "kB4rNXkZvzW3",
        "outputId": "ae07f987-b2c6-460a-f03d-a0987e63b184"
      },
      "source": [
        "device = torch.device(\"cuda\" if torch.cuda.is_available() else \"cpu\")\n",
        "print(device)"
      ],
      "execution_count": 9,
      "outputs": [
        {
          "output_type": "stream",
          "text": [
            "cuda\n"
          ],
          "name": "stdout"
        }
      ]
    },
    {
      "cell_type": "code",
      "metadata": {
        "id": "Ax_J--ZOvzW4"
      },
      "source": [
        "em = CartPoleEnvManager(device)"
      ],
      "execution_count": 10,
      "outputs": []
    },
    {
      "cell_type": "code",
      "metadata": {
        "colab": {
          "base_uri": "https://localhost:8080/",
          "height": 315
        },
        "id": "uZ735L3dvzW5",
        "outputId": "29bd35fd-7319-4dc4-9c51-ef5c30b5256e"
      },
      "source": [
        "em.reset()\n",
        "screen = em.render('rgb_array')\n",
        "ipythondisplay.clear_output(wait=True) # ADDED\n",
        "ipythondisplay.display(plt.gcf())\n",
        "plt.figure()\n",
        "plt.imshow(screen)\n",
        "plt.title(\"Non Processed screen example\")\n",
        "plt.show()"
      ],
      "execution_count": 11,
      "outputs": [
        {
          "output_type": "display_data",
          "data": {
            "text/plain": [
              "<Figure size 432x288 with 0 Axes>"
            ]
          },
          "metadata": {
            "tags": []
          }
        },
        {
          "output_type": "display_data",
          "data": {
            "text/plain": [
              "<Figure size 432x288 with 0 Axes>"
            ]
          },
          "metadata": {
            "tags": []
          }
        },
        {
          "output_type": "display_data",
          "data": {
            "image/png": "[encoded data removed]",
            "text/plain": [
              "<Figure size 432x288 with 1 Axes>"
            ]
          },
          "metadata": {
            "tags": [],
            "needs_background": "light"
          }
        }
      ]
    },
    {
      "cell_type": "markdown",
      "metadata": {
        "id": "aiOKqS7zvzW5"
      },
      "source": [
        "### *Example of processed screen*"
      ]
    },
    {
      "cell_type": "code",
      "metadata": {
        "colab": {
          "base_uri": "https://localhost:8080/",
          "height": 213
        },
        "id": "k8Bv6iwSvzW6",
        "outputId": "1c00a051-04e2-4d8e-f834-1ba62eef3ef1"
      },
      "source": [
        "screen = em.get_processed_screen()\n",
        "plt.figure()\n",
        "plt.imshow(screen.squeeze(0).permute(1,2,0).cpu(), interpolation='none')\n",
        "plt.title('Processed screen example')\n",
        "plt.show()"
      ],
      "execution_count": 12,
      "outputs": [
        {
          "output_type": "display_data",
          "data": {
            "image/png": "[encoded data removed]",
            "text/plain": [
              "<Figure size 432x288 with 1 Axes>"
            ]
          },
          "metadata": {
            "tags": [],
            "needs_background": "light"
          }
        }
      ]
    },
    {
      "cell_type": "markdown",
      "metadata": {
        "id": "ll1ZZAHfvzW6"
      },
      "source": [
        "### *Example of starting state*"
      ]
    },
    {
      "cell_type": "code",
      "metadata": {
        "colab": {
          "base_uri": "https://localhost:8080/",
          "height": 213
        },
        "id": "mciIb5nqvzW7",
        "outputId": "625dffea-a016-44d4-d19c-205f87d697c2"
      },
      "source": [
        "screen = em.get_state()\n",
        "plt.figure()\n",
        "plt.imshow(screen.squeeze(0).permute(1,2,0).cpu(), interpolation='none')\n",
        "plt.title('Processed screen example')\n",
        "plt.show()"
      ],
      "execution_count": 13,
      "outputs": [
        {
          "output_type": "display_data",
          "data": {
            "image/png": "[encoded data removed]",
            "text/plain": [
              "<Figure size 432x288 with 1 Axes>"
            ]
          },
          "metadata": {
            "tags": [],
            "needs_background": "light"
          }
        }
      ]
    },
    {
      "cell_type": "markdown",
      "metadata": {
        "id": "c-u27iu1vzW8"
      },
      "source": [
        "### *Example of non-starting state*"
      ]
    },
    {
      "cell_type": "code",
      "metadata": {
        "colab": {
          "base_uri": "https://localhost:8080/",
          "height": 230
        },
        "id": "cCmE27OmvzW8",
        "outputId": "2b416b5c-1f73-48dc-de02-dc9b2f81cd4d"
      },
      "source": [
        "for i in range(5):\n",
        "    em.take_action(torch.tensor([1]))\n",
        "screen = em.get_state()\n",
        "plt.figure()\n",
        "plt.imshow(screen.squeeze(0).permute(1,2,0).cpu(),interpolation='None')\n",
        "plt.title(\"Processed screen Example\")\n",
        "plt.show()"
      ],
      "execution_count": 14,
      "outputs": [
        {
          "output_type": "stream",
          "text": [
            "Clipping input data to the valid range for imshow with RGB data ([0..1] for floats or [0..255] for integers).\n"
          ],
          "name": "stderr"
        },
        {
          "output_type": "display_data",
          "data": {
            "image/png": "[encoded data removed]",
            "text/plain": [
              "<Figure size 432x288 with 1 Axes>"
            ]
          },
          "metadata": {
            "tags": [],
            "needs_background": "light"
          }
        }
      ]
    },
    {
      "cell_type": "markdown",
      "metadata": {
        "id": "JFyoQKicvzW-"
      },
      "source": [
        "### *Example of end state*"
      ]
    },
    {
      "cell_type": "code",
      "metadata": {
        "colab": {
          "base_uri": "https://localhost:8080/",
          "height": 213
        },
        "id": "uC0X55J-vzW-",
        "outputId": "1cae0b58-2506-4664-a3cf-d4b961d5fb08"
      },
      "source": [
        "em.done = True\n",
        "screen = em.get_state()\n",
        "plt.figure()\n",
        "plt.imshow(screen.squeeze(0).permute(1,2,0).cpu(), interpolation='None')\n",
        "plt.title(\"Processed screen example\")\n",
        "plt.show()\n",
        "em.close()"
      ],
      "execution_count": 15,
      "outputs": [
        {
          "output_type": "display_data",
          "data": {
            "image/png": "[encoded data removed]",
            "text/plain": [
              "<Figure size 432x288 with 1 Axes>"
            ]
          },
          "metadata": {
            "tags": [],
            "needs_background": "light"
          }
        }
      ]
    },
    {
      "cell_type": "code",
      "metadata": {
        "id": "o5SE3mcAvzW_"
      },
      "source": [
        "def plot(values,moving_avg_period,is_ipython):\n",
        "    plt.figure(2)\n",
        "    plt.clf()\n",
        "    plt.title('Training...')\n",
        "    plt.xlabel('Episode')\n",
        "    plt.ylabel('Duration')\n",
        "    plt.plot(values)\n",
        "    plt.plot(get_moving_avg_period(moving_avg_period,values))\n",
        "    plt.pause(0.001)\n",
        "    if is_ipython: display.clear_output(wait=True)\n",
        "        \n",
        "def get_moving_avg_period(period,values):\n",
        "    values = torch.tensor(values,dtype=torch.float)\n",
        "    if len(values) >= period :\n",
        "        moving_avg = values.unfold(dimension=0, size=period, step=1) \\\n",
        "                    .mean(dim=1).flatten(start_dim=0)\n",
        "        moving_avg = torch.cat((torch.zeros(period-1), moving_avg))\n",
        "        return moving_avg.numpy()\n",
        "    else:\n",
        "        moving_avg = torch.zeros(len(values))\n",
        "        return moving_avg.numpy()"
      ],
      "execution_count": 16,
      "outputs": []
    },
    {
      "cell_type": "markdown",
      "metadata": {
        "id": "3NvbhipqvzXA"
      },
      "source": [
        "### *Main Program*"
      ]
    },
    {
      "cell_type": "code",
      "metadata": {
        "id": "xwrXhpE0vzXB"
      },
      "source": [
        "batch_size = 256\n",
        "gamma = 0.999\n",
        "eps_start = 1\n",
        "eps_end = 0.01\n",
        "eps_decay = 0.001\n",
        "target_update = 10\n",
        "memory_size = 100000\n",
        "lr = 0.001\n",
        "num_episodes = 1000"
      ],
      "execution_count": 17,
      "outputs": []
    },
    {
      "cell_type": "code",
      "metadata": {
        "id": "EgL3TzEwvzXB"
      },
      "source": [
        "device = torch.device(\"cuda\" if torch.cuda.is_available() else \"cpu\")\n",
        "em = CartPoleEnvManager(device)\n",
        "strategy = EpsilonGreedyStrategy(eps_start,eps_end,eps_decay)\n",
        "agent = Agent(strategy,em.num_actions_available(),device)\n",
        "memory = ReplayMemoy(memory_size)\n",
        "policy_net = DQN(em.get_screen_height(),em.get_screen_width()).to(device)\n",
        "target_net = policy_net = DQN(em.get_screen_height(),em.get_screen_width()).to(device)\n",
        "target_net.load_state_dict(policy_net.state_dict())\n",
        "target_net.eval()\n",
        "optimizer = optim.Adam(params=policy_net.parameters(),lr=lr)"
      ],
      "execution_count": 18,
      "outputs": []
    },
    {
      "cell_type": "markdown",
      "metadata": {
        "id": "JmGMwWI5vzXC"
      },
      "source": [
        "### *Tensor Processing*"
      ]
    },
    {
      "cell_type": "code",
      "metadata": {
        "id": "U9DLY-8bvzXE"
      },
      "source": [
        "def extract_tensors(experiences):\n",
        "    batch = Experience(*zip(*experiences))\n",
        "    t1 = torch.cat(batch.state)\n",
        "    t2 = torch.cat(batch.action)\n",
        "    t3 = torch.cat(batch.reward)\n",
        "    t4 = torch.cat(batch.next_state)\n",
        "    return (t1,t2,t3,t4)"
      ],
      "execution_count": 19,
      "outputs": []
    },
    {
      "cell_type": "code",
      "metadata": {
        "colab": {
          "base_uri": "https://localhost:8080/"
        },
        "id": "EqJW7lbEvzXF",
        "outputId": "e2cd99d3-83a8-48c7-d031-3f29e6c31a7a"
      },
      "source": [
        "e1 = Experience(1,1,1,1)\n",
        "e2 = Experience(2,2,2,2)\n",
        "e3 = Experience(3,3,3,3)\n",
        "e4 = Experience(4,4,4,4)\n",
        "experiences = [e1,e2,e3,e4]\n",
        "experiences"
      ],
      "execution_count": 20,
      "outputs": [
        {
          "output_type": "execute_result",
          "data": {
            "text/plain": [
              "[Experience(state=1, action=1, next_state=1, reward=1),\n",
              " Experience(state=2, action=2, next_state=2, reward=2),\n",
              " Experience(state=3, action=3, next_state=3, reward=3),\n",
              " Experience(state=4, action=4, next_state=4, reward=4)]"
            ]
          },
          "metadata": {
            "tags": []
          },
          "execution_count": 20
        }
      ]
    },
    {
      "cell_type": "code",
      "metadata": {
        "colab": {
          "base_uri": "https://localhost:8080/"
        },
        "id": "NMhgaLF7vzXF",
        "outputId": "4f2cd65e-6b55-47b2-cd57-777a77f73a6f"
      },
      "source": [
        "batch = Experience(*zip(*experiences))\n",
        "batch"
      ],
      "execution_count": 21,
      "outputs": [
        {
          "output_type": "execute_result",
          "data": {
            "text/plain": [
              "Experience(state=(1, 2, 3, 4), action=(1, 2, 3, 4), next_state=(1, 2, 3, 4), reward=(1, 2, 3, 4))"
            ]
          },
          "metadata": {
            "tags": []
          },
          "execution_count": 21
        }
      ]
    },
    {
      "cell_type": "markdown",
      "metadata": {
        "id": "b9CVJexwvzXG"
      },
      "source": [
        "### *QValue Calculator*"
      ]
    },
    {
      "cell_type": "code",
      "metadata": {
        "id": "Ra-OTsH2vzXH"
      },
      "source": [
        "class QValues():\n",
        "    device = torch.device(\"cuda\" if torch.cuda.is_available() else \"cpu\")\n",
        "    \n",
        "    @staticmethod\n",
        "    def get_current(policy_net,states,actions):\n",
        "        return policy_net(states).gather(dim=1, index=actions.unsqueeze(-1))\n",
        "    \n",
        "    @staticmethod\n",
        "    def get_next(target_net, next_states):\n",
        "        final_state_locations = next_states.flatten(start_dim=1) \\\n",
        "            .max(dim=1)[0].eq(0).type(torch.bool)\n",
        "        non_final_state_locations = (final_state_locations == False)\n",
        "        non_final_states = next_states[non_final_state_locations]\n",
        "        batch_size = next_states.shape[0]\n",
        "        values = torch.zeros(batch_size).to(QValues.device)\n",
        "        values[non_final_state_locations] = target_net(non_final_states).max(dim=1)[0].detach()\n",
        "        return values"
      ],
      "execution_count": 22,
      "outputs": []
    },
    {
      "cell_type": "markdown",
      "metadata": {
        "id": "2gqKTKQevzXH"
      },
      "source": [
        "### *Training*"
      ]
    },
    {
      "cell_type": "code",
      "metadata": {
        "colab": {
          "base_uri": "https://localhost:8080/",
          "height": 295
        },
        "id": "N-LD_bF-vzXI",
        "outputId": "c90451ba-70c8-4e96-aa03-71312c3be13c"
      },
      "source": [
        "episode_durations = []\n",
        "for episode in range(num_episodes):\n",
        "    em.reset()\n",
        "    state = em.get_state()\n",
        "    \n",
        "    for timestamp in count():\n",
        "        action = agent.select_action(state,policy_net)\n",
        "        reward = em.take_action(action)\n",
        "        next_state = em.get_state()\n",
        "        memory.push(Experience(state,action,next_state,reward))\n",
        "        state = next_state\n",
        "        \n",
        "        if memory.can_provide_sample(batch_size):\n",
        "            experience = memory.sample(batch_size)\n",
        "            states, actions, rewards, next_states = extract_tensors(experience)\n",
        "            current_q_values = QValues.get_current(policy_net,states,actions)\n",
        "            next_q_values = QValues.get_next(target_net,next_states)\n",
        "            target_q_values = (next_q_values*gamma) + rewards\n",
        "            loss = F.mse_loss(current_q_values,target_q_values.unsqueeze(1))\n",
        "            optimizer.zero_grad()\n",
        "            loss.backward()\n",
        "            optimizer.step()\n",
        "        if em.done:\n",
        "            episode_durations.append(timestamp)\n",
        "            is_python = 'inline' in matplotlib.get_backend()\n",
        "            if is_python: from IPython import display\n",
        "            plot(episode_durations,100,is_python)\n",
        "            break\n",
        "    if episode % target_update == 0:\n",
        "        target_net.load_state_dict(policy_net.state_dict())\n",
        "        \n",
        "em.close()"
      ],
      "execution_count": 23,
      "outputs": [
        {
          "output_type": "display_data",
          "data": {
            "image/png": "[encoded data removed]",
            "text/plain": [
              "<Figure size 432x288 with 1 Axes>"
            ]
          },
          "metadata": {
            "tags": [],
            "needs_background": "light"
          }
        }
      ]
    },
    {
      "cell_type": "code",
      "metadata": {
        "id": "OcTZ9YZg3PsE",
        "colab": {
          "base_uri": "https://localhost:8080/"
        },
        "outputId": "f0f6d671-18f3-41d4-99a6-5f880e04b4e8"
      },
      "source": [
        "gpu_info = !nvidia-smi\n",
        "gpu_info = '\\n'.join(gpu_info)\n",
        "if gpu_info.find('failed') >= 0:\n",
        "  print('Select the Runtime > \"Change runtime type\" menu to enable a GPU accelerator, ')\n",
        "  print('and then re-execute this cell.')\n",
        "else:\n",
        "  print(gpu_info)"
      ],
      "execution_count": 24,
      "outputs": [
        {
          "output_type": "stream",
          "text": [
            "Thu Jun 10 12:49:30 2021       \n",
            "+-----------------------------------------------------------------------------+\n",
            "| NVIDIA-SMI 465.27       Driver Version: 460.32.03    CUDA Version: 11.2     |\n",
            "|-------------------------------+----------------------+----------------------+\n",
            "| GPU  Name        Persistence-M| Bus-Id        Disp.A | Volatile Uncorr. ECC |\n",
            "| Fan  Temp  Perf  Pwr:Usage/Cap|         Memory-Usage | GPU-Util  Compute M. |\n",
            "|                               |                      |               MIG M. |\n",
            "|===============================+======================+======================|\n",
            "|   0  Tesla P100-PCIE...  Off  | 00000000:00:04.0 Off |                    0 |\n",
            "| N/A   50C    P0    38W / 250W |   4013MiB / 16280MiB |      0%      Default |\n",
            "|                               |                      |                  N/A |\n",
            "+-------------------------------+----------------------+----------------------+\n",
            "                                                                               \n",
            "+-----------------------------------------------------------------------------+\n",
            "| Processes:                                                                  |\n",
            "|  GPU   GI   CI        PID   Type   Process name                  GPU Memory |\n",
            "|        ID   ID                                                   Usage      |\n",
            "|=============================================================================|\n",
            "+-----------------------------------------------------------------------------+\n"
          ],
          "name": "stdout"
        }
      ]
    },
    {
      "cell_type": "code",
      "metadata": {
        "id": "6jiEJfpd3StB",
        "colab": {
          "base_uri": "https://localhost:8080/"
        },
        "outputId": "e127f637-fd4e-4fac-9586-8680a0db872e"
      },
      "source": [
        "from psutil import virtual_memory\n",
        "ram_gb = virtual_memory().total / 1e9\n",
        "print('Your runtime has {:.1f} gigabytes of available RAM\\n'.format(ram_gb))\n",
        "\n",
        "if ram_gb < 20:\n",
        "  print('To enable a high-RAM runtime, select the Runtime > \"Change runtime type\"')\n",
        "  print('menu, and then select High-RAM in the Runtime shape dropdown. Then, ')\n",
        "  print('re-execute this cell.')\n",
        "else:\n",
        "  print('You are using a high-RAM runtime!')"
      ],
      "execution_count": 25,
      "outputs": [
        {
          "output_type": "stream",
          "text": [
            "Your runtime has 27.3 gigabytes of available RAM\n",
            "\n",
            "You are using a high-RAM runtime!\n"
          ],
          "name": "stdout"
        }
      ]
    }
  ]
}